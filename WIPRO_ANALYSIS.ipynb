{
  "cells": [
    {
      "cell_type": "markdown",
      "metadata": {
        "id": "u00H73rIIYKA"
      },
      "source": [
        "\n",
        "\n",
        "> ** we can do analysis of any company from these model example wipro tatasteel**\n",
        "\n"
      ]
    },
    {
      "cell_type": "code",
      "execution_count": null,
      "metadata": {
        "id": "DtQaewqhVp0v"
      },
      "outputs": [],
      "source": [
        "import numpy as np # linear algebra\n",
        "import pandas as pd # data processing, CSV file I/O (e.g. pd.read_csv)\n",
        "\n",
        "# Input data files are available in the read-only \"../input/\" directory\n",
        "# For example, running this (by clicking run or pressing Shift+Enter) will list all files under the input directory\n",
        "\n",
        "import os\n",
        "for dirname, _, filenames in os.walk('/kaggle/input'):\n",
        "    for filename in filenames:\n",
        "        print(os.path.join(dirname, filename))"
      ]
    },
    {
      "cell_type": "code",
      "execution_count": null,
      "metadata": {
        "id": "hb_PpzsHWfpq"
      },
      "outputs": [],
      "source": [
        "import matplotlib.pyplot as plt\n",
        "import seaborn as sns\n",
        "\n",
        "sns.set()"
      ]
    },
    {
      "cell_type": "code",
      "execution_count": null,
      "metadata": {
        "colab": {
          "base_uri": "https://localhost:8080/",
          "height": 206
        },
        "id": "Kfo3DTG8Wh65",
        "outputId": "f3f6e0de-c98e-4538-e071-e236ccbc44a5"
      },
      "outputs": [
        {
          "data": {
            "text/html": [
              "<div>\n",
              "<style scoped>\n",
              "    .dataframe tbody tr th:only-of-type {\n",
              "        vertical-align: middle;\n",
              "    }\n",
              "\n",
              "    .dataframe tbody tr th {\n",
              "        vertical-align: top;\n",
              "    }\n",
              "\n",
              "    .dataframe thead th {\n",
              "        text-align: right;\n",
              "    }\n",
              "</style>\n",
              "<table border=\"1\" class=\"dataframe\">\n",
              "  <thead>\n",
              "    <tr style=\"text-align: right;\">\n",
              "      <th></th>\n",
              "      <th>Date</th>\n",
              "      <th>Symbol</th>\n",
              "      <th>Series</th>\n",
              "      <th>Prev Close</th>\n",
              "      <th>Open</th>\n",
              "      <th>High</th>\n",
              "      <th>Low</th>\n",
              "      <th>Last</th>\n",
              "      <th>Close</th>\n",
              "      <th>VWAP</th>\n",
              "      <th>Volume</th>\n",
              "      <th>Turnover</th>\n",
              "      <th>Trades</th>\n",
              "      <th>Deliverable Volume</th>\n",
              "      <th>%Deliverble</th>\n",
              "    </tr>\n",
              "  </thead>\n",
              "  <tbody>\n",
              "    <tr>\n",
              "      <th>0</th>\n",
              "      <td>2007-11-27</td>\n",
              "      <td>MUNDRAPORT</td>\n",
              "      <td>EQ</td>\n",
              "      <td>440.00</td>\n",
              "      <td>770.00</td>\n",
              "      <td>1050.00</td>\n",
              "      <td>770.0</td>\n",
              "      <td>959.0</td>\n",
              "      <td>962.90</td>\n",
              "      <td>984.72</td>\n",
              "      <td>27294366.0</td>\n",
              "      <td>2.687719e+15</td>\n",
              "      <td>NaN</td>\n",
              "      <td>9859619.0</td>\n",
              "      <td>0.3612</td>\n",
              "    </tr>\n",
              "    <tr>\n",
              "      <th>1</th>\n",
              "      <td>2007-11-28</td>\n",
              "      <td>MUNDRAPORT</td>\n",
              "      <td>EQ</td>\n",
              "      <td>962.90</td>\n",
              "      <td>984.00</td>\n",
              "      <td>990.00</td>\n",
              "      <td>874.0</td>\n",
              "      <td>885.0</td>\n",
              "      <td>893.90</td>\n",
              "      <td>941.38</td>\n",
              "      <td>4581338.0</td>\n",
              "      <td>4.312765e+14</td>\n",
              "      <td>NaN</td>\n",
              "      <td>1453278.0</td>\n",
              "      <td>0.3172</td>\n",
              "    </tr>\n",
              "    <tr>\n",
              "      <th>2</th>\n",
              "      <td>2007-11-29</td>\n",
              "      <td>MUNDRAPORT</td>\n",
              "      <td>EQ</td>\n",
              "      <td>893.90</td>\n",
              "      <td>909.00</td>\n",
              "      <td>914.75</td>\n",
              "      <td>841.0</td>\n",
              "      <td>887.0</td>\n",
              "      <td>884.20</td>\n",
              "      <td>888.09</td>\n",
              "      <td>5124121.0</td>\n",
              "      <td>4.550658e+14</td>\n",
              "      <td>NaN</td>\n",
              "      <td>1069678.0</td>\n",
              "      <td>0.2088</td>\n",
              "    </tr>\n",
              "    <tr>\n",
              "      <th>3</th>\n",
              "      <td>2007-11-30</td>\n",
              "      <td>MUNDRAPORT</td>\n",
              "      <td>EQ</td>\n",
              "      <td>884.20</td>\n",
              "      <td>890.00</td>\n",
              "      <td>958.00</td>\n",
              "      <td>890.0</td>\n",
              "      <td>929.0</td>\n",
              "      <td>921.55</td>\n",
              "      <td>929.17</td>\n",
              "      <td>4609762.0</td>\n",
              "      <td>4.283257e+14</td>\n",
              "      <td>NaN</td>\n",
              "      <td>1260913.0</td>\n",
              "      <td>0.2735</td>\n",
              "    </tr>\n",
              "    <tr>\n",
              "      <th>4</th>\n",
              "      <td>2007-12-03</td>\n",
              "      <td>MUNDRAPORT</td>\n",
              "      <td>EQ</td>\n",
              "      <td>921.55</td>\n",
              "      <td>939.75</td>\n",
              "      <td>995.00</td>\n",
              "      <td>922.0</td>\n",
              "      <td>980.0</td>\n",
              "      <td>969.30</td>\n",
              "      <td>965.65</td>\n",
              "      <td>2977470.0</td>\n",
              "      <td>2.875200e+14</td>\n",
              "      <td>NaN</td>\n",
              "      <td>816123.0</td>\n",
              "      <td>0.2741</td>\n",
              "    </tr>\n",
              "  </tbody>\n",
              "</table>\n",
              "</div>"
            ],
            "text/plain": [
              "         Date      Symbol Series  ...  Trades  Deliverable Volume  %Deliverble\n",
              "0  2007-11-27  MUNDRAPORT     EQ  ...     NaN           9859619.0       0.3612\n",
              "1  2007-11-28  MUNDRAPORT     EQ  ...     NaN           1453278.0       0.3172\n",
              "2  2007-11-29  MUNDRAPORT     EQ  ...     NaN           1069678.0       0.2088\n",
              "3  2007-11-30  MUNDRAPORT     EQ  ...     NaN           1260913.0       0.2735\n",
              "4  2007-12-03  MUNDRAPORT     EQ  ...     NaN            816123.0       0.2741\n",
              "\n",
              "[5 rows x 15 columns]"
            ]
          },
          "execution_count": 5,
          "metadata": {},
          "output_type": "execute_result"
        }
      ],
      "source": [
        "data=pd.read_csv(\"NIFTY50_all.csv\")\n",
        "data.head()"
      ]
    },
    {
      "cell_type": "code",
      "execution_count": null,
      "metadata": {
        "colab": {
          "base_uri": "https://localhost:8080/",
          "height": 206
        },
        "id": "vKkXkc9aWrOX",
        "outputId": "209d7a71-d301-42c0-b6af-ffa60580ff9d"
      },
      "outputs": [
        {
          "data": {
            "text/html": [
              "<div>\n",
              "<style scoped>\n",
              "    .dataframe tbody tr th:only-of-type {\n",
              "        vertical-align: middle;\n",
              "    }\n",
              "\n",
              "    .dataframe tbody tr th {\n",
              "        vertical-align: top;\n",
              "    }\n",
              "\n",
              "    .dataframe thead th {\n",
              "        text-align: right;\n",
              "    }\n",
              "</style>\n",
              "<table border=\"1\" class=\"dataframe\">\n",
              "  <thead>\n",
              "    <tr style=\"text-align: right;\">\n",
              "      <th></th>\n",
              "      <th>Date</th>\n",
              "      <th>Symbol</th>\n",
              "      <th>Series</th>\n",
              "      <th>Prev Close</th>\n",
              "      <th>Open</th>\n",
              "      <th>High</th>\n",
              "      <th>Low</th>\n",
              "      <th>Last</th>\n",
              "      <th>Close</th>\n",
              "      <th>VWAP</th>\n",
              "      <th>Volume</th>\n",
              "      <th>Turnover</th>\n",
              "      <th>Trades</th>\n",
              "      <th>Deliverable Volume</th>\n",
              "      <th>%Deliverble</th>\n",
              "    </tr>\n",
              "  </thead>\n",
              "  <tbody>\n",
              "    <tr>\n",
              "      <th>45476</th>\n",
              "      <td>2018-02-22</td>\n",
              "      <td>CIPLA</td>\n",
              "      <td>EQ</td>\n",
              "      <td>597.25</td>\n",
              "      <td>595.00</td>\n",
              "      <td>597.25</td>\n",
              "      <td>586.60</td>\n",
              "      <td>588.00</td>\n",
              "      <td>589.65</td>\n",
              "      <td>590.88</td>\n",
              "      <td>1859008.0</td>\n",
              "      <td>1.098452e+14</td>\n",
              "      <td>23547.0</td>\n",
              "      <td>1228424.0</td>\n",
              "      <td>0.6608</td>\n",
              "    </tr>\n",
              "    <tr>\n",
              "      <th>45477</th>\n",
              "      <td>2018-02-23</td>\n",
              "      <td>CIPLA</td>\n",
              "      <td>EQ</td>\n",
              "      <td>589.65</td>\n",
              "      <td>591.80</td>\n",
              "      <td>605.00</td>\n",
              "      <td>590.00</td>\n",
              "      <td>594.00</td>\n",
              "      <td>595.65</td>\n",
              "      <td>597.82</td>\n",
              "      <td>1576584.0</td>\n",
              "      <td>9.425211e+13</td>\n",
              "      <td>41664.0</td>\n",
              "      <td>546035.0</td>\n",
              "      <td>0.3463</td>\n",
              "    </tr>\n",
              "    <tr>\n",
              "      <th>45478</th>\n",
              "      <td>2018-02-26</td>\n",
              "      <td>CIPLA</td>\n",
              "      <td>EQ</td>\n",
              "      <td>595.65</td>\n",
              "      <td>596.25</td>\n",
              "      <td>598.30</td>\n",
              "      <td>588.75</td>\n",
              "      <td>589.50</td>\n",
              "      <td>590.10</td>\n",
              "      <td>592.66</td>\n",
              "      <td>1417465.0</td>\n",
              "      <td>8.400730e+13</td>\n",
              "      <td>30252.0</td>\n",
              "      <td>878418.0</td>\n",
              "      <td>0.6197</td>\n",
              "    </tr>\n",
              "    <tr>\n",
              "      <th>45479</th>\n",
              "      <td>2018-02-27</td>\n",
              "      <td>CIPLA</td>\n",
              "      <td>EQ</td>\n",
              "      <td>590.10</td>\n",
              "      <td>591.70</td>\n",
              "      <td>598.90</td>\n",
              "      <td>583.10</td>\n",
              "      <td>586.65</td>\n",
              "      <td>586.50</td>\n",
              "      <td>590.04</td>\n",
              "      <td>1349590.0</td>\n",
              "      <td>7.963055e+13</td>\n",
              "      <td>26690.0</td>\n",
              "      <td>603048.0</td>\n",
              "      <td>0.4468</td>\n",
              "    </tr>\n",
              "    <tr>\n",
              "      <th>45480</th>\n",
              "      <td>2018-02-28</td>\n",
              "      <td>CIPLA</td>\n",
              "      <td>EQ</td>\n",
              "      <td>586.50</td>\n",
              "      <td>590.00</td>\n",
              "      <td>596.60</td>\n",
              "      <td>587.10</td>\n",
              "      <td>591.00</td>\n",
              "      <td>NaN</td>\n",
              "      <td>NaN</td>\n",
              "      <td>NaN</td>\n",
              "      <td>NaN</td>\n",
              "      <td>NaN</td>\n",
              "      <td>NaN</td>\n",
              "      <td>NaN</td>\n",
              "    </tr>\n",
              "  </tbody>\n",
              "</table>\n",
              "</div>"
            ],
            "text/plain": [
              "             Date Symbol Series  ...   Trades  Deliverable Volume  %Deliverble\n",
              "45476  2018-02-22  CIPLA     EQ  ...  23547.0           1228424.0       0.6608\n",
              "45477  2018-02-23  CIPLA     EQ  ...  41664.0            546035.0       0.3463\n",
              "45478  2018-02-26  CIPLA     EQ  ...  30252.0            878418.0       0.6197\n",
              "45479  2018-02-27  CIPLA     EQ  ...  26690.0            603048.0       0.4468\n",
              "45480  2018-02-28  CIPLA     EQ  ...      NaN                 NaN          NaN\n",
              "\n",
              "[5 rows x 15 columns]"
            ]
          },
          "execution_count": 6,
          "metadata": {},
          "output_type": "execute_result"
        }
      ],
      "source": [
        "data.tail()"
      ]
    },
    {
      "cell_type": "code",
      "execution_count": null,
      "metadata": {
        "colab": {
          "base_uri": "https://localhost:8080/"
        },
        "id": "F4yl3oUbXst4",
        "outputId": "70915f71-76fd-4a33-9e09-bcc54972affd"
      },
      "outputs": [
        {
          "name": "stdout",
          "output_type": "stream",
          "text": [
            "<class 'pandas.core.frame.DataFrame'>\n",
            "RangeIndex: 45481 entries, 0 to 45480\n",
            "Data columns (total 15 columns):\n",
            " #   Column              Non-Null Count  Dtype  \n",
            "---  ------              --------------  -----  \n",
            " 0   Date                45481 non-null  object \n",
            " 1   Symbol              45481 non-null  object \n",
            " 2   Series              45481 non-null  object \n",
            " 3   Prev Close          45481 non-null  float64\n",
            " 4   Open                45481 non-null  float64\n",
            " 5   High                45481 non-null  float64\n",
            " 6   Low                 45481 non-null  float64\n",
            " 7   Last                45481 non-null  float64\n",
            " 8   Close               45480 non-null  float64\n",
            " 9   VWAP                45480 non-null  float64\n",
            " 10  Volume              45480 non-null  float64\n",
            " 11  Turnover            45480 non-null  float64\n",
            " 12  Trades              23777 non-null  float64\n",
            " 13  Deliverable Volume  42468 non-null  float64\n",
            " 14  %Deliverble         42468 non-null  float64\n",
            "dtypes: float64(12), object(3)\n",
            "memory usage: 5.2+ MB\n"
          ]
        }
      ],
      "source": [
        "data.info()"
      ]
    },
    {
      "cell_type": "code",
      "execution_count": null,
      "metadata": {
        "colab": {
          "base_uri": "https://localhost:8080/"
        },
        "id": "nRRa7Q_IX4F1",
        "outputId": "78b418a9-a9c5-4ee2-dbca-6a360149fa70"
      },
      "outputs": [
        {
          "data": {
            "text/plain": [
              "(45481, 15)"
            ]
          },
          "execution_count": 8,
          "metadata": {},
          "output_type": "execute_result"
        }
      ],
      "source": [
        "data.shape"
      ]
    },
    {
      "cell_type": "code",
      "execution_count": null,
      "metadata": {
        "colab": {
          "base_uri": "https://localhost:8080/"
        },
        "id": "_zl0CkO0X_Mw",
        "outputId": "3c18d466-7e96-4d9d-8afe-b6bd1fa6a602"
      },
      "outputs": [
        {
          "data": {
            "text/plain": [
              "0        962.90\n",
              "1        893.90\n",
              "2        884.20\n",
              "3        921.55\n",
              "4        969.30\n",
              "          ...  \n",
              "45476    589.65\n",
              "45477    595.65\n",
              "45478    590.10\n",
              "45479    586.50\n",
              "45480       NaN\n",
              "Name: Close, Length: 45481, dtype: float64"
            ]
          },
          "execution_count": 9,
          "metadata": {},
          "output_type": "execute_result"
        }
      ],
      "source": [
        "df1=data.reset_index()['Close']\n",
        "df1"
      ]
    },
    {
      "cell_type": "code",
      "execution_count": null,
      "metadata": {
        "colab": {
          "base_uri": "https://localhost:8080/",
          "height": 286
        },
        "id": "yQ9aRxFGYAXc",
        "outputId": "e8f7c375-6188-452c-9dae-766088b5a275"
      },
      "outputs": [
        {
          "data": {
            "text/plain": [
              "[<matplotlib.lines.Line2D at 0x7f04565a7d90>]"
            ]
          },
          "execution_count": 10,
          "metadata": {},
          "output_type": "execute_result"
        },
        {
          "data": {
            "image/png": "[encoded data removed]",
            "text/plain": [
              "<Figure size 432x288 with 1 Axes>"
            ]
          },
          "metadata": {},
          "output_type": "display_data"
        }
      ],
      "source": [
        "plt.plot(df1)"
      ]
    },
    {
      "cell_type": "code",
      "execution_count": null,
      "metadata": {
        "id": "DxgJWlz9YHGr"
      },
      "outputs": [],
      "source": [
        "from sklearn.preprocessing import MinMaxScaler\n",
        "scaler=MinMaxScaler(feature_range=(0,1))\n",
        "df1=scaler.fit_transform(np.array(df1).reshape(-1,1))"
      ]
    },
    {
      "cell_type": "code",
      "execution_count": null,
      "metadata": {
        "colab": {
          "base_uri": "https://localhost:8080/"
        },
        "id": "cEt6iDY4YOwg",
        "outputId": "e661cc1f-7265-4743-d40f-7774281dabfe"
      },
      "outputs": [
        {
          "data": {
            "text/plain": [
              "(45481, 1)"
            ]
          },
          "execution_count": 12,
          "metadata": {},
          "output_type": "execute_result"
        }
      ],
      "source": [
        "df1.shape"
      ]
    },
    {
      "cell_type": "code",
      "execution_count": null,
      "metadata": {
        "id": "TiEoghSXYRWm"
      },
      "outputs": [],
      "source": [
        "train_size = int(len(df1)*0.65)\n",
        "test_size = len(df1) - train_size\n",
        "train_data,test_data = df1[0:train_size,:], df1[train_size:len(df1),:]"
      ]
    },
    {
      "cell_type": "code",
      "execution_count": null,
      "metadata": {
        "colab": {
          "base_uri": "https://localhost:8080/"
        },
        "id": "hEo6VVr9YWP1",
        "outputId": "69d74ccd-6dea-4db2-f992-c662ee9e8e54"
      },
      "outputs": [
        {
          "data": {
            "text/plain": [
              "29562"
            ]
          },
          "execution_count": 14,
          "metadata": {},
          "output_type": "execute_result"
        }
      ],
      "source": [
        "train_size"
      ]
    },
    {
      "cell_type": "code",
      "execution_count": null,
      "metadata": {
        "id": "RTDocLq3YY1h"
      },
      "outputs": [],
      "source": [
        "def create_dataset(dataset, time_step=1):\n",
        "\tdataX, dataY = [], []\n",
        "\tfor i in range(len(dataset)-time_step-1):\n",
        "\t\ta = dataset[i:(i+time_step), 0]   ###i=0, 0,1,2,3-----99   100 \n",
        "\t\tdataX.append(a)\n",
        "\t\tdataY.append(dataset[i + time_step, 0])\n",
        "\treturn np.array(dataX), np.array(dataY)"
      ]
    },
    {
      "cell_type": "code",
      "execution_count": null,
      "metadata": {
        "id": "OoVE7wJ8YcQ4"
      },
      "outputs": [],
      "source": [
        "time_step = 100\n",
        "X_train, y_train = create_dataset(train_data,time_step)\n",
        "X_test, y_test = create_dataset(test_data, time_step)"
      ]
    },
    {
      "cell_type": "code",
      "execution_count": null,
      "metadata": {
        "colab": {
          "base_uri": "https://localhost:8080/"
        },
        "id": "AcgQflMeYfha",
        "outputId": "0ba74c08-9f84-4b1e-f840-96097c0699b9"
      },
      "outputs": [
        {
          "name": "stdout",
          "output_type": "stream",
          "text": [
            "(29461, 100) (29461,)\n"
          ]
        }
      ],
      "source": [
        "print(X_train.shape,y_train.shape)"
      ]
    },
    {
      "cell_type": "code",
      "execution_count": null,
      "metadata": {
        "id": "W1n2Dvp5Yke5"
      },
      "outputs": [],
      "source": [
        "# reshape input to be [samples, time steps, features] which is required for LSTM\n",
        "X_train =X_train.reshape(X_train.shape[0],X_train.shape[1] , 1)\n",
        "X_test = X_test.reshape(X_test.shape[0],X_test.shape[1] , 1)"
      ]
    },
    {
      "cell_type": "code",
      "execution_count": null,
      "metadata": {
        "id": "AiKgCG8CYntg"
      },
      "outputs": [],
      "source": [
        "from tensorflow.keras.models import Sequential\n",
        "from tensorflow.keras.layers import LSTM,Dense\n",
        "import tensorflow as tf"
      ]
    },
    {
      "cell_type": "code",
      "execution_count": null,
      "metadata": {
        "colab": {
          "base_uri": "https://localhost:8080/"
        },
        "id": "0usnKTIrYsK9",
        "outputId": "c312fc8a-8057-4732-a020-7e0731f1b354"
      },
      "outputs": [
        {
          "name": "stdout",
          "output_type": "stream",
          "text": [
            "Model: \"sequential\"\n",
            "_________________________________________________________________\n",
            " Layer (type)                Output Shape              Param #   \n",
            "=================================================================\n",
            " lstm (LSTM)                 (None, 100, 50)           10400     \n",
            "                                                                 \n",
            " lstm_1 (LSTM)               (None, 100, 50)           20200     \n",
            "                                                                 \n",
            " lstm_2 (LSTM)               (None, 50)                20200     \n",
            "                                                                 \n",
            " dense (Dense)               (None, 1)                 51        \n",
            "                                                                 \n",
            "=================================================================\n",
            "Total params: 50,851\n",
            "Trainable params: 50,851\n",
            "Non-trainable params: 0\n",
            "_________________________________________________________________\n"
          ]
        }
      ],
      "source": [
        "model = Sequential()\n",
        "model.add(LSTM(50, return_sequences= True, input_shape=(100,1)))\n",
        "model.add(LSTM(50, return_sequences= True))\n",
        "model.add(LSTM(50))\n",
        "model.add(Dense(1))\n",
        "model.compile(loss='mean_squared_error', optimizer='adam')\n",
        "\n",
        "model.summary()"
      ]
    },
    {
      "cell_type": "code",
      "execution_count": null,
      "metadata": {
        "colab": {
          "background_save": true,
          "base_uri": "https://localhost:8080/"
        },
        "id": "OktPhl1dYwIv",
        "outputId": "2ce52a04-35a3-432a-d79d-2471a87b86db"
      },
      "outputs": [
        {
          "name": "stdout",
          "output_type": "stream",
          "text": [
            "Epoch 1/80\n",
            "461/461 [==============================] - 67s 136ms/step - loss: 8.5846e-04 - val_loss: 6.7753e-05\n",
            "Epoch 2/80\n",
            "461/461 [==============================] - 62s 134ms/step - loss: 3.3599e-04 - val_loss: 4.6333e-05\n",
            "Epoch 3/80\n",
            "461/461 [==============================] - 62s 133ms/step - loss: 2.3544e-04 - val_loss: 2.9270e-05\n",
            "Epoch 4/80\n",
            "461/461 [==============================] - 61s 133ms/step - loss: 2.0888e-04 - val_loss: 3.7860e-05\n",
            "Epoch 5/80\n",
            "461/461 [==============================] - 62s 133ms/step - loss: 1.6049e-04 - val_loss: 2.3771e-05\n",
            "Epoch 6/80\n",
            "461/461 [==============================] - 62s 134ms/step - loss: 1.5196e-04 - val_loss: 3.8056e-05\n",
            "Epoch 7/80\n",
            "461/461 [==============================] - 61s 133ms/step - loss: 1.4791e-04 - val_loss: 3.6381e-05\n",
            "Epoch 8/80\n",
            "461/461 [==============================] - 62s 134ms/step - loss: 1.3499e-04 - val_loss: 5.1692e-05\n",
            "Epoch 9/80\n",
            "461/461 [==============================] - 61s 133ms/step - loss: 1.3496e-04 - val_loss: 1.1109e-04\n",
            "Epoch 10/80\n",
            "461/461 [==============================] - 62s 134ms/step - loss: 1.3183e-04 - val_loss: 2.1473e-05\n",
            "Epoch 11/80\n",
            "461/461 [==============================] - 62s 134ms/step - loss: 1.2329e-04 - val_loss: 1.5822e-05\n",
            "Epoch 12/80\n",
            "461/461 [==============================] - 62s 134ms/step - loss: 1.2564e-04 - val_loss: 1.5875e-05\n",
            "Epoch 13/80\n",
            "461/461 [==============================] - 62s 134ms/step - loss: 1.2549e-04 - val_loss: 1.4739e-05\n",
            "Epoch 14/80\n",
            "461/461 [==============================] - 62s 134ms/step - loss: 1.2343e-04 - val_loss: 2.0959e-05\n",
            "Epoch 15/80\n",
            "461/461 [==============================] - 62s 134ms/step - loss: 1.1401e-04 - val_loss: 1.7715e-05\n",
            "Epoch 16/80\n",
            "461/461 [==============================] - 62s 134ms/step - loss: 1.2474e-04 - val_loss: 1.5325e-05\n",
            "Epoch 17/80\n",
            "461/461 [==============================] - 62s 135ms/step - loss: 1.2222e-04 - val_loss: 1.5367e-05\n",
            "Epoch 18/80\n",
            "461/461 [==============================] - 62s 134ms/step - loss: 1.1768e-04 - val_loss: 4.2632e-05\n",
            "Epoch 19/80\n",
            "461/461 [==============================] - 62s 134ms/step - loss: 1.1767e-04 - val_loss: 1.9777e-05\n",
            "Epoch 20/80\n",
            "461/461 [==============================] - 62s 134ms/step - loss: 1.1959e-04 - val_loss: 1.3247e-05\n",
            "Epoch 21/80\n",
            "461/461 [==============================] - 62s 134ms/step - loss: 1.1204e-04 - val_loss: 4.1249e-05\n",
            "Epoch 22/80\n",
            "461/461 [==============================] - 62s 134ms/step - loss: 1.1511e-04 - val_loss: 1.3458e-05\n",
            "Epoch 23/80\n",
            "461/461 [==============================] - 62s 134ms/step - loss: 1.1093e-04 - val_loss: 2.7366e-05\n",
            "Epoch 24/80\n",
            "461/461 [==============================] - 62s 134ms/step - loss: 1.1168e-04 - val_loss: 1.4806e-05\n",
            "Epoch 25/80\n",
            "461/461 [==============================] - 62s 134ms/step - loss: 1.0807e-04 - val_loss: 3.5191e-05\n",
            "Epoch 26/80\n",
            "461/461 [==============================] - 62s 134ms/step - loss: 1.1302e-04 - val_loss: 1.6317e-05\n",
            "Epoch 27/80\n",
            "461/461 [==============================] - 62s 134ms/step - loss: 1.1013e-04 - val_loss: 1.5795e-05\n",
            "Epoch 28/80\n",
            "461/461 [==============================] - 62s 134ms/step - loss: 1.1236e-04 - val_loss: 1.4478e-05\n",
            "Epoch 29/80\n",
            "461/461 [==============================] - 62s 134ms/step - loss: 1.1402e-04 - val_loss: 1.8386e-05\n",
            "Epoch 30/80\n",
            "461/461 [==============================] - 62s 135ms/step - loss: 1.0904e-04 - val_loss: 6.2201e-05\n",
            "Epoch 31/80\n",
            "461/461 [==============================] - 62s 134ms/step - loss: 1.0995e-04 - val_loss: 1.6581e-05\n",
            "Epoch 32/80\n",
            "461/461 [==============================] - 62s 135ms/step - loss: 1.0313e-04 - val_loss: 1.8392e-05\n",
            "Epoch 33/80\n",
            "461/461 [==============================] - 62s 134ms/step - loss: 1.0858e-04 - val_loss: 1.4502e-05\n",
            "Epoch 34/80\n",
            "461/461 [==============================] - 61s 133ms/step - loss: 1.0572e-04 - val_loss: 1.4812e-05\n",
            "Epoch 35/80\n",
            "461/461 [==============================] - 61s 133ms/step - loss: 1.0598e-04 - val_loss: 1.4236e-05\n",
            "Epoch 36/80\n",
            "461/461 [==============================] - 61s 132ms/step - loss: 1.0770e-04 - val_loss: 1.3500e-05\n",
            "Epoch 37/80\n",
            "461/461 [==============================] - 61s 133ms/step - loss: 1.0564e-04 - val_loss: 1.9098e-05\n",
            "Epoch 38/80\n",
            "461/461 [==============================] - 61s 132ms/step - loss: 1.0247e-04 - val_loss: 1.2956e-05\n",
            "Epoch 39/80\n",
            "461/461 [==============================] - 61s 132ms/step - loss: 1.0820e-04 - val_loss: 1.7212e-05\n",
            "Epoch 40/80\n",
            "461/461 [==============================] - 61s 132ms/step - loss: 1.0733e-04 - val_loss: 1.4647e-05\n",
            "Epoch 41/80\n",
            "461/461 [==============================] - 61s 132ms/step - loss: 1.0909e-04 - val_loss: 1.4508e-05\n",
            "Epoch 42/80\n",
            "461/461 [==============================] - 61s 133ms/step - loss: 1.0312e-04 - val_loss: 1.3103e-05\n",
            "Epoch 43/80\n",
            "461/461 [==============================] - 61s 132ms/step - loss: 1.0258e-04 - val_loss: 1.5029e-05\n",
            "Epoch 44/80\n",
            "461/461 [==============================] - 61s 132ms/step - loss: 1.0580e-04 - val_loss: 1.3937e-05\n",
            "Epoch 45/80\n",
            "461/461 [==============================] - 61s 132ms/step - loss: 1.0525e-04 - val_loss: 3.7797e-05\n",
            "Epoch 46/80\n",
            "461/461 [==============================] - 61s 133ms/step - loss: 1.0837e-04 - val_loss: 1.9652e-05\n",
            "Epoch 47/80\n",
            "461/461 [==============================] - 61s 133ms/step - loss: 1.0448e-04 - val_loss: 1.3209e-05\n",
            "Epoch 48/80\n",
            "461/461 [==============================] - 61s 132ms/step - loss: 1.0773e-04 - val_loss: 1.6495e-05\n",
            "Epoch 49/80\n",
            "461/461 [==============================] - 61s 132ms/step - loss: 1.0524e-04 - val_loss: 1.4761e-05\n",
            "Epoch 50/80\n",
            "461/461 [==============================] - 61s 132ms/step - loss: 1.0730e-04 - val_loss: 3.4789e-05\n",
            "Epoch 51/80\n",
            "461/461 [==============================] - 61s 132ms/step - loss: 1.0451e-04 - val_loss: 1.6597e-05\n",
            "Epoch 52/80\n",
            "461/461 [==============================] - 61s 133ms/step - loss: 1.0617e-04 - val_loss: 1.3142e-05\n",
            "Epoch 53/80\n",
            "461/461 [==============================] - 61s 132ms/step - loss: 1.0368e-04 - val_loss: 1.3165e-05\n",
            "Epoch 54/80\n",
            "461/461 [==============================] - 61s 132ms/step - loss: 1.0287e-04 - val_loss: 1.4803e-05\n",
            "Epoch 55/80\n",
            "461/461 [==============================] - 61s 132ms/step - loss: 1.0384e-04 - val_loss: 1.4008e-05\n",
            "Epoch 56/80\n",
            "461/461 [==============================] - 61s 132ms/step - loss: 1.0534e-04 - val_loss: 1.8476e-05\n",
            "Epoch 57/80\n",
            "461/461 [==============================] - 61s 132ms/step - loss: 1.0559e-04 - val_loss: 2.0220e-05\n",
            "Epoch 58/80\n",
            "461/461 [==============================] - 61s 133ms/step - loss: 1.0374e-04 - val_loss: 1.2871e-05\n",
            "Epoch 59/80\n",
            "461/461 [==============================] - 61s 133ms/step - loss: 9.8743e-05 - val_loss: 1.3496e-05\n",
            "Epoch 60/80\n",
            "461/461 [==============================] - 61s 132ms/step - loss: 1.0035e-04 - val_loss: 1.2957e-05\n",
            "Epoch 61/80\n",
            "461/461 [==============================] - 61s 133ms/step - loss: 1.0227e-04 - val_loss: 1.3079e-05\n",
            "Epoch 62/80\n",
            "461/461 [==============================] - 61s 133ms/step - loss: 1.0245e-04 - val_loss: 5.5654e-05\n",
            "Epoch 63/80\n",
            "461/461 [==============================] - 61s 133ms/step - loss: 1.0479e-04 - val_loss: 1.8581e-05\n",
            "Epoch 64/80\n",
            "461/461 [==============================] - 61s 132ms/step - loss: 1.0379e-04 - val_loss: 1.2759e-05\n",
            "Epoch 65/80\n",
            "461/461 [==============================] - 61s 133ms/step - loss: 1.0134e-04 - val_loss: 1.2709e-05\n",
            "Epoch 66/80\n",
            "461/461 [==============================] - 61s 132ms/step - loss: 1.0425e-04 - val_loss: 1.3841e-05\n",
            "Epoch 67/80\n",
            "461/461 [==============================] - 61s 132ms/step - loss: 1.0180e-04 - val_loss: 1.3436e-05\n",
            "Epoch 68/80\n",
            "461/461 [==============================] - 61s 133ms/step - loss: 1.0198e-04 - val_loss: 1.4295e-05\n",
            "Epoch 69/80\n",
            "461/461 [==============================] - 61s 133ms/step - loss: 1.0374e-04 - val_loss: 1.4709e-05\n",
            "Epoch 70/80\n",
            "461/461 [==============================] - 61s 133ms/step - loss: 1.0116e-04 - val_loss: 1.2995e-05\n",
            "Epoch 71/80\n",
            "461/461 [==============================] - 61s 133ms/step - loss: 1.0450e-04 - val_loss: 1.2863e-05\n",
            "Epoch 72/80\n",
            "461/461 [==============================] - 61s 133ms/step - loss: 1.0373e-04 - val_loss: 1.2967e-05\n",
            "Epoch 73/80\n",
            "461/461 [==============================] - 62s 134ms/step - loss: 1.0607e-04 - val_loss: 1.6794e-05\n",
            "Epoch 74/80\n",
            "461/461 [==============================] - 61s 133ms/step - loss: 9.8704e-05 - val_loss: 1.2848e-05\n",
            "Epoch 75/80\n",
            "461/461 [==============================] - 61s 133ms/step - loss: 1.0111e-04 - val_loss: 1.2400e-04\n",
            "Epoch 76/80\n",
            "461/461 [==============================] - 61s 133ms/step - loss: 9.8853e-05 - val_loss: 1.3182e-05\n",
            "Epoch 77/80\n",
            "461/461 [==============================] - 61s 133ms/step - loss: 9.6718e-05 - val_loss: 6.7017e-05\n",
            "Epoch 78/80\n",
            "461/461 [==============================] - 62s 134ms/step - loss: 1.0153e-04 - val_loss: 1.4098e-05\n",
            "Epoch 79/80\n",
            "461/461 [==============================] - 61s 133ms/step - loss: 1.0065e-04 - val_loss: 1.2503e-05\n",
            "Epoch 80/80\n",
            "461/461 [==============================] - 61s 133ms/step - loss: 1.0029e-04 - val_loss: 1.3524e-05\n"
          ]
        },
        {
          "data": {
            "text/plain": [
              "<keras.callbacks.History at 0x7f03e9cb2d50>"
            ]
          },
          "execution_count": null,
          "metadata": {},
          "output_type": "execute_result"
        }
      ],
      "source": [
        "model.fit(X_train,y_train,validation_data=(X_test,y_test),epochs=80,batch_size=64,verbose=1)"
      ]
    },
    {
      "cell_type": "code",
      "execution_count": null,
      "metadata": {
        "id": "y5FacdJKRcU0"
      },
      "outputs": [],
      "source": [
        "# prediction \n",
        "train_predict=model.predict(X_train)\n",
        "test_predict=model.predict(X_test)\n",
        "# Transformback to original form\n",
        "train_predict=scaler.inverse_transform(train_predict)\n",
        "test_predict=scaler.inverse_transform(test_predict)"
      ]
    },
    {
      "cell_type": "code",
      "execution_count": null,
      "metadata": {
        "colab": {
          "base_uri": "https://localhost:8080/"
        },
        "id": "8JQ9TcAvRzN2",
        "outputId": "e95c9d4c-b416-4e13-8aea-04a157337fcc"
      },
      "outputs": [
        {
          "data": {
            "text/plain": [
              "439.31486891671744"
            ]
          },
          "execution_count": 21,
          "metadata": {},
          "output_type": "execute_result"
        }
      ],
      "source": [
        "# Calculate RMSE for Train Data\n",
        "import math\n",
        "from sklearn.metrics import mean_squared_error\n",
        "math.sqrt(mean_squared_error(y_train,train_predict))"
      ]
    },
    {
      "cell_type": "code",
      "execution_count": null,
      "metadata": {
        "colab": {
          "base_uri": "https://localhost:8080/"
        },
        "id": "YCyvdMKFR2j9",
        "outputId": "a77e186b-329f-42ea-e117-b7613c7865eb"
      },
      "outputs": [
        {
          "data": {
            "text/plain": [
              "486.67818964663644"
            ]
          },
          "execution_count": 22,
          "metadata": {},
          "output_type": "execute_result"
        }
      ],
      "source": [
        "# Test Data RMSE\n",
        "math.sqrt(mean_squared_error(y_test,test_predict))"
      ]
    },
    {
      "cell_type": "code",
      "execution_count": null,
      "metadata": {
        "colab": {
          "base_uri": "https://localhost:8080/",
          "height": 268
        },
        "id": "MKBNXtVQR-zR",
        "outputId": "f110516e-6c86-4daf-caa4-81e1ca70a797"
      },
      "outputs": [
        {
          "data": {
            "image/png": "[encoded data removed]",
            "text/plain": [
              "<Figure size 432x288 with 1 Axes>"
            ]
          },
          "metadata": {},
          "output_type": "display_data"
        }
      ],
      "source": [
        "# Plotting \n",
        "# shift train predictions for plotting\n",
        "look_back=100\n",
        "trainPredictPlot = np.empty_like(df1)\n",
        "trainPredictPlot[:, :] = np.nan\n",
        "trainPredictPlot[look_back:len(train_predict)+look_back, :] = train_predict\n",
        "# shift test predictions for plotting\n",
        "testPredictPlot = np.empty_like(df1)\n",
        "testPredictPlot[:, :] = np.nan\n",
        "testPredictPlot[len(train_predict)+(look_back*2)+1:len(df1)-1, :] = test_predict\n",
        "# plot baseline and predictions\n",
        "plt.plot(scaler.inverse_transform(df1))\n",
        "plt.plot(trainPredictPlot)\n",
        "plt.plot(testPredictPlot)\n",
        "plt.show()"
      ]
    },
    {
      "cell_type": "code",
      "execution_count": null,
      "metadata": {
        "colab": {
          "base_uri": "https://localhost:8080/"
        },
        "id": "q-CiS6wOSM_x",
        "outputId": "09ccb3fe-91f7-4aa0-f2cf-50f1d062563f"
      },
      "outputs": [
        {
          "data": {
            "text/plain": [
              "1858"
            ]
          },
          "execution_count": 24,
          "metadata": {},
          "output_type": "execute_result"
        }
      ],
      "source": [
        "len(test_data)"
      ]
    },
    {
      "cell_type": "code",
      "execution_count": null,
      "metadata": {
        "colab": {
          "base_uri": "https://localhost:8080/"
        },
        "id": "w2V-Hcz2SaMm",
        "outputId": "6c835d9b-a190-4fbd-f940-bdb7aabd13a1"
      },
      "outputs": [
        {
          "data": {
            "text/plain": [
              "(1, 100)"
            ]
          },
          "execution_count": 25,
          "metadata": {},
          "output_type": "execute_result"
        }
      ],
      "source": [
        "x_input=test_data[1758:].reshape(1,-1)\n",
        "x_input.shape"
      ]
    },
    {
      "cell_type": "code",
      "execution_count": null,
      "metadata": {
        "id": "s0FNMhe-SaPz"
      },
      "outputs": [],
      "source": [
        "temp_input=list(x_input)\n",
        "temp_input=temp_input[0].tolist()"
      ]
    },
    {
      "cell_type": "code",
      "execution_count": null,
      "metadata": {
        "colab": {
          "base_uri": "https://localhost:8080/"
        },
        "id": "fbqRTz4rSrEi",
        "outputId": "65052e59-8b19-4d55-fd97-aed5f0b059eb"
      },
      "outputs": [
        {
          "name": "stdout",
          "output_type": "stream",
          "text": [
            "[0.99813855]\n",
            "101\n",
            "1 day input [0.57455392 0.56612361 0.56498578 0.56074476 0.56152056 0.57351952\n",
            " 0.57874321 0.587639   0.59596587 0.58758728 0.58339798 0.54678045\n",
            " 0.55246961 0.57320921 0.57414016 0.58484613 0.58438066 0.5929144\n",
            " 0.59622446 0.59565555 0.64727179 0.63439359 0.63775537 0.67809672\n",
            " 0.66811482 0.65001293 0.64923713 0.66397724 0.66108094 0.66061546\n",
            " 0.62006724 0.6349625  0.64432377 0.62006724 0.59968968 0.60480993\n",
            " 0.57796742 0.57558831 0.55210758 0.58841479 0.59415568 0.6060512\n",
            " 0.6089475  0.63904836 0.657564   0.65368503 0.6444272  0.64903026\n",
            " 0.63434187 0.62570468 0.65368503 0.65120248 0.65218516 0.62420481\n",
            " 0.63853116 0.68482027 0.68316524 0.69888803 0.6701836  0.68595811\n",
            " 0.69123351 0.73431601 0.71445565 0.68895785 0.6930437  0.6614947\n",
            " 0.67985518 0.67514869 0.69216447 0.67938971 0.65906387 0.65952935\n",
            " 0.68864753 0.69950866 0.69707784 0.65740884 0.67845875 0.72366175\n",
            " 0.7579519  0.77020946 0.82317042 0.82803207 0.82296354 0.83537626\n",
            " 0.8804241  0.86087406 0.81127489 0.83966899 0.85952935 0.85130592\n",
            " 0.84903026 0.8551849  0.88352728 0.88787174 0.9035428  0.94181536\n",
            " 0.93524696 0.99725886 1.         0.99813855]\n",
            "1 day output [[0.9973488]]\n",
            "2 day input [0.56612361 0.56498578 0.56074476 0.56152056 0.57351952 0.57874321\n",
            " 0.587639   0.59596587 0.58758728 0.58339798 0.54678045 0.55246961\n",
            " 0.57320921 0.57414016 0.58484613 0.58438066 0.5929144  0.59622446\n",
            " 0.59565555 0.64727179 0.63439359 0.63775537 0.67809672 0.66811482\n",
            " 0.65001293 0.64923713 0.66397724 0.66108094 0.66061546 0.62006724\n",
            " 0.6349625  0.64432377 0.62006724 0.59968968 0.60480993 0.57796742\n",
            " 0.57558831 0.55210758 0.58841479 0.59415568 0.6060512  0.6089475\n",
            " 0.63904836 0.657564   0.65368503 0.6444272  0.64903026 0.63434187\n",
            " 0.62570468 0.65368503 0.65120248 0.65218516 0.62420481 0.63853116\n",
            " 0.68482027 0.68316524 0.69888803 0.6701836  0.68595811 0.69123351\n",
            " 0.73431601 0.71445565 0.68895785 0.6930437  0.6614947  0.67985518\n",
            " 0.67514869 0.69216447 0.67938971 0.65906387 0.65952935 0.68864753\n",
            " 0.69950866 0.69707784 0.65740884 0.67845875 0.72366175 0.7579519\n",
            " 0.77020946 0.82317042 0.82803207 0.82296354 0.83537626 0.8804241\n",
            " 0.86087406 0.81127489 0.83966899 0.85952935 0.85130592 0.84903026\n",
            " 0.8551849  0.88352728 0.88787174 0.9035428  0.94181536 0.93524696\n",
            " 0.99725886 1.         0.99813855 0.99734879]\n",
            "2 day output [[0.9984117]]\n",
            "3 day input [0.56498578 0.56074476 0.56152056 0.57351952 0.57874321 0.587639\n",
            " 0.59596587 0.58758728 0.58339798 0.54678045 0.55246961 0.57320921\n",
            " 0.57414016 0.58484613 0.58438066 0.5929144  0.59622446 0.59565555\n",
            " 0.64727179 0.63439359 0.63775537 0.67809672 0.66811482 0.65001293\n",
            " 0.64923713 0.66397724 0.66108094 0.66061546 0.62006724 0.6349625\n",
            " 0.64432377 0.62006724 0.59968968 0.60480993 0.57796742 0.57558831\n",
            " 0.55210758 0.58841479 0.59415568 0.6060512  0.6089475  0.63904836\n",
            " 0.657564   0.65368503 0.6444272  0.64903026 0.63434187 0.62570468\n",
            " 0.65368503 0.65120248 0.65218516 0.62420481 0.63853116 0.68482027\n",
            " 0.68316524 0.69888803 0.6701836  0.68595811 0.69123351 0.73431601\n",
            " 0.71445565 0.68895785 0.6930437  0.6614947  0.67985518 0.67514869\n",
            " 0.69216447 0.67938971 0.65906387 0.65952935 0.68864753 0.69950866\n",
            " 0.69707784 0.65740884 0.67845875 0.72366175 0.7579519  0.77020946\n",
            " 0.82317042 0.82803207 0.82296354 0.83537626 0.8804241  0.86087406\n",
            " 0.81127489 0.83966899 0.85952935 0.85130592 0.84903026 0.8551849\n",
            " 0.88352728 0.88787174 0.9035428  0.94181536 0.93524696 0.99725886\n",
            " 1.         0.99813855 0.99734879 0.99841172]\n",
            "3 day output [[1.0009007]]\n",
            "4 day input [0.56074476 0.56152056 0.57351952 0.57874321 0.587639   0.59596587\n",
            " 0.58758728 0.58339798 0.54678045 0.55246961 0.57320921 0.57414016\n",
            " 0.58484613 0.58438066 0.5929144  0.59622446 0.59565555 0.64727179\n",
            " 0.63439359 0.63775537 0.67809672 0.66811482 0.65001293 0.64923713\n",
            " 0.66397724 0.66108094 0.66061546 0.62006724 0.6349625  0.64432377\n",
            " 0.62006724 0.59968968 0.60480993 0.57796742 0.57558831 0.55210758\n",
            " 0.58841479 0.59415568 0.6060512  0.6089475  0.63904836 0.657564\n",
            " 0.65368503 0.6444272  0.64903026 0.63434187 0.62570468 0.65368503\n",
            " 0.65120248 0.65218516 0.62420481 0.63853116 0.68482027 0.68316524\n",
            " 0.69888803 0.6701836  0.68595811 0.69123351 0.73431601 0.71445565\n",
            " 0.68895785 0.6930437  0.6614947  0.67985518 0.67514869 0.69216447\n",
            " 0.67938971 0.65906387 0.65952935 0.68864753 0.69950866 0.69707784\n",
            " 0.65740884 0.67845875 0.72366175 0.7579519  0.77020946 0.82317042\n",
            " 0.82803207 0.82296354 0.83537626 0.8804241  0.86087406 0.81127489\n",
            " 0.83966899 0.85952935 0.85130592 0.84903026 0.8551849  0.88352728\n",
            " 0.88787174 0.9035428  0.94181536 0.93524696 0.99725886 1.\n",
            " 0.99813855 0.99734879 0.99841172 1.00090075]\n",
            "4 day output [[1.003868]]\n",
            "5 day input [0.56152056 0.57351952 0.57874321 0.587639   0.59596587 0.58758728\n",
            " 0.58339798 0.54678045 0.55246961 0.57320921 0.57414016 0.58484613\n",
            " 0.58438066 0.5929144  0.59622446 0.59565555 0.64727179 0.63439359\n",
            " 0.63775537 0.67809672 0.66811482 0.65001293 0.64923713 0.66397724\n",
            " 0.66108094 0.66061546 0.62006724 0.6349625  0.64432377 0.62006724\n",
            " 0.59968968 0.60480993 0.57796742 0.57558831 0.55210758 0.58841479\n",
            " 0.59415568 0.6060512  0.6089475  0.63904836 0.657564   0.65368503\n",
            " 0.6444272  0.64903026 0.63434187 0.62570468 0.65368503 0.65120248\n",
            " 0.65218516 0.62420481 0.63853116 0.68482027 0.68316524 0.69888803\n",
            " 0.6701836  0.68595811 0.69123351 0.73431601 0.71445565 0.68895785\n",
            " 0.6930437  0.6614947  0.67985518 0.67514869 0.69216447 0.67938971\n",
            " 0.65906387 0.65952935 0.68864753 0.69950866 0.69707784 0.65740884\n",
            " 0.67845875 0.72366175 0.7579519  0.77020946 0.82317042 0.82803207\n",
            " 0.82296354 0.83537626 0.8804241  0.86087406 0.81127489 0.83966899\n",
            " 0.85952935 0.85130592 0.84903026 0.8551849  0.88352728 0.88787174\n",
            " 0.9035428  0.94181536 0.93524696 0.99725886 1.         0.99813855\n",
            " 0.99734879 0.99841172 1.00090075 1.00386798]\n",
            "5 day output [[1.0065703]]\n",
            "6 day input [0.57351952 0.57874321 0.587639   0.59596587 0.58758728 0.58339798\n",
            " 0.54678045 0.55246961 0.57320921 0.57414016 0.58484613 0.58438066\n",
            " 0.5929144  0.59622446 0.59565555 0.64727179 0.63439359 0.63775537\n",
            " 0.67809672 0.66811482 0.65001293 0.64923713 0.66397724 0.66108094\n",
            " 0.66061546 0.62006724 0.6349625  0.64432377 0.62006724 0.59968968\n",
            " 0.60480993 0.57796742 0.57558831 0.55210758 0.58841479 0.59415568\n",
            " 0.6060512  0.6089475  0.63904836 0.657564   0.65368503 0.6444272\n",
            " 0.64903026 0.63434187 0.62570468 0.65368503 0.65120248 0.65218516\n",
            " 0.62420481 0.63853116 0.68482027 0.68316524 0.69888803 0.6701836\n",
            " 0.68595811 0.69123351 0.73431601 0.71445565 0.68895785 0.6930437\n",
            " 0.6614947  0.67985518 0.67514869 0.69216447 0.67938971 0.65906387\n",
            " 0.65952935 0.68864753 0.69950866 0.69707784 0.65740884 0.67845875\n",
            " 0.72366175 0.7579519  0.77020946 0.82317042 0.82803207 0.82296354\n",
            " 0.83537626 0.8804241  0.86087406 0.81127489 0.83966899 0.85952935\n",
            " 0.85130592 0.84903026 0.8551849  0.88352728 0.88787174 0.9035428\n",
            " 0.94181536 0.93524696 0.99725886 1.         0.99813855 0.99734879\n",
            " 0.99841172 1.00090075 1.00386798 1.00657034]\n",
            "6 day output [[1.0086523]]\n",
            "7 day input [0.57874321 0.587639   0.59596587 0.58758728 0.58339798 0.54678045\n",
            " 0.55246961 0.57320921 0.57414016 0.58484613 0.58438066 0.5929144\n",
            " 0.59622446 0.59565555 0.64727179 0.63439359 0.63775537 0.67809672\n",
            " 0.66811482 0.65001293 0.64923713 0.66397724 0.66108094 0.66061546\n",
            " 0.62006724 0.6349625  0.64432377 0.62006724 0.59968968 0.60480993\n",
            " 0.57796742 0.57558831 0.55210758 0.58841479 0.59415568 0.6060512\n",
            " 0.6089475  0.63904836 0.657564   0.65368503 0.6444272  0.64903026\n",
            " 0.63434187 0.62570468 0.65368503 0.65120248 0.65218516 0.62420481\n",
            " 0.63853116 0.68482027 0.68316524 0.69888803 0.6701836  0.68595811\n",
            " 0.69123351 0.73431601 0.71445565 0.68895785 0.6930437  0.6614947\n",
            " 0.67985518 0.67514869 0.69216447 0.67938971 0.65906387 0.65952935\n",
            " 0.68864753 0.69950866 0.69707784 0.65740884 0.67845875 0.72366175\n",
            " 0.7579519  0.77020946 0.82317042 0.82803207 0.82296354 0.83537626\n",
            " 0.8804241  0.86087406 0.81127489 0.83966899 0.85952935 0.85130592\n",
            " 0.84903026 0.8551849  0.88352728 0.88787174 0.9035428  0.94181536\n",
            " 0.93524696 0.99725886 1.         0.99813855 0.99734879 0.99841172\n",
            " 1.00090075 1.00386798 1.00657034 1.00865233]\n",
            "7 day output [[1.0100571]]\n",
            "8 day input [0.587639   0.59596587 0.58758728 0.58339798 0.54678045 0.55246961\n",
            " 0.57320921 0.57414016 0.58484613 0.58438066 0.5929144  0.59622446\n",
            " 0.59565555 0.64727179 0.63439359 0.63775537 0.67809672 0.66811482\n",
            " 0.65001293 0.64923713 0.66397724 0.66108094 0.66061546 0.62006724\n",
            " 0.6349625  0.64432377 0.62006724 0.59968968 0.60480993 0.57796742\n",
            " 0.57558831 0.55210758 0.58841479 0.59415568 0.6060512  0.6089475\n",
            " 0.63904836 0.657564   0.65368503 0.6444272  0.64903026 0.63434187\n",
            " 0.62570468 0.65368503 0.65120248 0.65218516 0.62420481 0.63853116\n",
            " 0.68482027 0.68316524 0.69888803 0.6701836  0.68595811 0.69123351\n",
            " 0.73431601 0.71445565 0.68895785 0.6930437  0.6614947  0.67985518\n",
            " 0.67514869 0.69216447 0.67938971 0.65906387 0.65952935 0.68864753\n",
            " 0.69950866 0.69707784 0.65740884 0.67845875 0.72366175 0.7579519\n",
            " 0.77020946 0.82317042 0.82803207 0.82296354 0.83537626 0.8804241\n",
            " 0.86087406 0.81127489 0.83966899 0.85952935 0.85130592 0.84903026\n",
            " 0.8551849  0.88352728 0.88787174 0.9035428  0.94181536 0.93524696\n",
            " 0.99725886 1.         0.99813855 0.99734879 0.99841172 1.00090075\n",
            " 1.00386798 1.00657034 1.00865233 1.01005709]\n",
            "8 day output [[1.0108778]]\n",
            "9 day input [0.59596587 0.58758728 0.58339798 0.54678045 0.55246961 0.57320921\n",
            " 0.57414016 0.58484613 0.58438066 0.5929144  0.59622446 0.59565555\n",
            " 0.64727179 0.63439359 0.63775537 0.67809672 0.66811482 0.65001293\n",
            " 0.64923713 0.66397724 0.66108094 0.66061546 0.62006724 0.6349625\n",
            " 0.64432377 0.62006724 0.59968968 0.60480993 0.57796742 0.57558831\n",
            " 0.55210758 0.58841479 0.59415568 0.6060512  0.6089475  0.63904836\n",
            " 0.657564   0.65368503 0.6444272  0.64903026 0.63434187 0.62570468\n",
            " 0.65368503 0.65120248 0.65218516 0.62420481 0.63853116 0.68482027\n",
            " 0.68316524 0.69888803 0.6701836  0.68595811 0.69123351 0.73431601\n",
            " 0.71445565 0.68895785 0.6930437  0.6614947  0.67985518 0.67514869\n",
            " 0.69216447 0.67938971 0.65906387 0.65952935 0.68864753 0.69950866\n",
            " 0.69707784 0.65740884 0.67845875 0.72366175 0.7579519  0.77020946\n",
            " 0.82317042 0.82803207 0.82296354 0.83537626 0.8804241  0.86087406\n",
            " 0.81127489 0.83966899 0.85952935 0.85130592 0.84903026 0.8551849\n",
            " 0.88352728 0.88787174 0.9035428  0.94181536 0.93524696 0.99725886\n",
            " 1.         0.99813855 0.99734879 0.99841172 1.00090075 1.00386798\n",
            " 1.00657034 1.00865233 1.01005709 1.01087785]\n",
            "9 day output [[1.01125]]\n",
            "10 day input [0.58758728 0.58339798 0.54678045 0.55246961 0.57320921 0.57414016\n",
            " 0.58484613 0.58438066 0.5929144  0.59622446 0.59565555 0.64727179\n",
            " 0.63439359 0.63775537 0.67809672 0.66811482 0.65001293 0.64923713\n",
            " 0.66397724 0.66108094 0.66061546 0.62006724 0.6349625  0.64432377\n",
            " 0.62006724 0.59968968 0.60480993 0.57796742 0.57558831 0.55210758\n",
            " 0.58841479 0.59415568 0.6060512  0.6089475  0.63904836 0.657564\n",
            " 0.65368503 0.6444272  0.64903026 0.63434187 0.62570468 0.65368503\n",
            " 0.65120248 0.65218516 0.62420481 0.63853116 0.68482027 0.68316524\n",
            " 0.69888803 0.6701836  0.68595811 0.69123351 0.73431601 0.71445565\n",
            " 0.68895785 0.6930437  0.6614947  0.67985518 0.67514869 0.69216447\n",
            " 0.67938971 0.65906387 0.65952935 0.68864753 0.69950866 0.69707784\n",
            " 0.65740884 0.67845875 0.72366175 0.7579519  0.77020946 0.82317042\n",
            " 0.82803207 0.82296354 0.83537626 0.8804241  0.86087406 0.81127489\n",
            " 0.83966899 0.85952935 0.85130592 0.84903026 0.8551849  0.88352728\n",
            " 0.88787174 0.9035428  0.94181536 0.93524696 0.99725886 1.\n",
            " 0.99813855 0.99734879 0.99841172 1.00090075 1.00386798 1.00657034\n",
            " 1.00865233 1.01005709 1.01087785 1.01125002]\n",
            "10 day output [[1.0112975]]\n",
            "11 day input [0.58339798 0.54678045 0.55246961 0.57320921 0.57414016 0.58484613\n",
            " 0.58438066 0.5929144  0.59622446 0.59565555 0.64727179 0.63439359\n",
            " 0.63775537 0.67809672 0.66811482 0.65001293 0.64923713 0.66397724\n",
            " 0.66108094 0.66061546 0.62006724 0.6349625  0.64432377 0.62006724\n",
            " 0.59968968 0.60480993 0.57796742 0.57558831 0.55210758 0.58841479\n",
            " 0.59415568 0.6060512  0.6089475  0.63904836 0.657564   0.65368503\n",
            " 0.6444272  0.64903026 0.63434187 0.62570468 0.65368503 0.65120248\n",
            " 0.65218516 0.62420481 0.63853116 0.68482027 0.68316524 0.69888803\n",
            " 0.6701836  0.68595811 0.69123351 0.73431601 0.71445565 0.68895785\n",
            " 0.6930437  0.6614947  0.67985518 0.67514869 0.69216447 0.67938971\n",
            " 0.65906387 0.65952935 0.68864753 0.69950866 0.69707784 0.65740884\n",
            " 0.67845875 0.72366175 0.7579519  0.77020946 0.82317042 0.82803207\n",
            " 0.82296354 0.83537626 0.8804241  0.86087406 0.81127489 0.83966899\n",
            " 0.85952935 0.85130592 0.84903026 0.8551849  0.88352728 0.88787174\n",
            " 0.9035428  0.94181536 0.93524696 0.99725886 1.         0.99813855\n",
            " 0.99734879 0.99841172 1.00090075 1.00386798 1.00657034 1.00865233\n",
            " 1.01005709 1.01087785 1.01125002 1.01129746]\n",
            "11 day output [[1.0111156]]\n",
            "12 day input [0.54678045 0.55246961 0.57320921 0.57414016 0.58484613 0.58438066\n",
            " 0.5929144  0.59622446 0.59565555 0.64727179 0.63439359 0.63775537\n",
            " 0.67809672 0.66811482 0.65001293 0.64923713 0.66397724 0.66108094\n",
            " 0.66061546 0.62006724 0.6349625  0.64432377 0.62006724 0.59968968\n",
            " 0.60480993 0.57796742 0.57558831 0.55210758 0.58841479 0.59415568\n",
            " 0.6060512  0.6089475  0.63904836 0.657564   0.65368503 0.6444272\n",
            " 0.64903026 0.63434187 0.62570468 0.65368503 0.65120248 0.65218516\n",
            " 0.62420481 0.63853116 0.68482027 0.68316524 0.69888803 0.6701836\n",
            " 0.68595811 0.69123351 0.73431601 0.71445565 0.68895785 0.6930437\n",
            " 0.6614947  0.67985518 0.67514869 0.69216447 0.67938971 0.65906387\n",
            " 0.65952935 0.68864753 0.69950866 0.69707784 0.65740884 0.67845875\n",
            " 0.72366175 0.7579519  0.77020946 0.82317042 0.82803207 0.82296354\n",
            " 0.83537626 0.8804241  0.86087406 0.81127489 0.83966899 0.85952935\n",
            " 0.85130592 0.84903026 0.8551849  0.88352728 0.88787174 0.9035428\n",
            " 0.94181536 0.93524696 0.99725886 1.         0.99813855 0.99734879\n",
            " 0.99841172 1.00090075 1.00386798 1.00657034 1.00865233 1.01005709\n",
            " 1.01087785 1.01125002 1.01129746 1.01111555]\n",
            "12 day output [[1.0107751]]\n",
            "13 day input [0.55246961 0.57320921 0.57414016 0.58484613 0.58438066 0.5929144\n",
            " 0.59622446 0.59565555 0.64727179 0.63439359 0.63775537 0.67809672\n",
            " 0.66811482 0.65001293 0.64923713 0.66397724 0.66108094 0.66061546\n",
            " 0.62006724 0.6349625  0.64432377 0.62006724 0.59968968 0.60480993\n",
            " 0.57796742 0.57558831 0.55210758 0.58841479 0.59415568 0.6060512\n",
            " 0.6089475  0.63904836 0.657564   0.65368503 0.6444272  0.64903026\n",
            " 0.63434187 0.62570468 0.65368503 0.65120248 0.65218516 0.62420481\n",
            " 0.63853116 0.68482027 0.68316524 0.69888803 0.6701836  0.68595811\n",
            " 0.69123351 0.73431601 0.71445565 0.68895785 0.6930437  0.6614947\n",
            " 0.67985518 0.67514869 0.69216447 0.67938971 0.65906387 0.65952935\n",
            " 0.68864753 0.69950866 0.69707784 0.65740884 0.67845875 0.72366175\n",
            " 0.7579519  0.77020946 0.82317042 0.82803207 0.82296354 0.83537626\n",
            " 0.8804241  0.86087406 0.81127489 0.83966899 0.85952935 0.85130592\n",
            " 0.84903026 0.8551849  0.88352728 0.88787174 0.9035428  0.94181536\n",
            " 0.93524696 0.99725886 1.         0.99813855 0.99734879 0.99841172\n",
            " 1.00090075 1.00386798 1.00657034 1.00865233 1.01005709 1.01087785\n",
            " 1.01125002 1.01129746 1.01111555 1.01077509]\n",
            "13 day output [[1.0103273]]\n",
            "14 day input [0.57320921 0.57414016 0.58484613 0.58438066 0.5929144  0.59622446\n",
            " 0.59565555 0.64727179 0.63439359 0.63775537 0.67809672 0.66811482\n",
            " 0.65001293 0.64923713 0.66397724 0.66108094 0.66061546 0.62006724\n",
            " 0.6349625  0.64432377 0.62006724 0.59968968 0.60480993 0.57796742\n",
            " 0.57558831 0.55210758 0.58841479 0.59415568 0.6060512  0.6089475\n",
            " 0.63904836 0.657564   0.65368503 0.6444272  0.64903026 0.63434187\n",
            " 0.62570468 0.65368503 0.65120248 0.65218516 0.62420481 0.63853116\n",
            " 0.68482027 0.68316524 0.69888803 0.6701836  0.68595811 0.69123351\n",
            " 0.73431601 0.71445565 0.68895785 0.6930437  0.6614947  0.67985518\n",
            " 0.67514869 0.69216447 0.67938971 0.65906387 0.65952935 0.68864753\n",
            " 0.69950866 0.69707784 0.65740884 0.67845875 0.72366175 0.7579519\n",
            " 0.77020946 0.82317042 0.82803207 0.82296354 0.83537626 0.8804241\n",
            " 0.86087406 0.81127489 0.83966899 0.85952935 0.85130592 0.84903026\n",
            " 0.8551849  0.88352728 0.88787174 0.9035428  0.94181536 0.93524696\n",
            " 0.99725886 1.         0.99813855 0.99734879 0.99841172 1.00090075\n",
            " 1.00386798 1.00657034 1.00865233 1.01005709 1.01087785 1.01125002\n",
            " 1.01129746 1.01111555 1.01077509 1.01032734]\n",
            "14 day output [[1.009813]]\n",
            "15 day input [0.57414016 0.58484613 0.58438066 0.5929144  0.59622446 0.59565555\n",
            " 0.64727179 0.63439359 0.63775537 0.67809672 0.66811482 0.65001293\n",
            " 0.64923713 0.66397724 0.66108094 0.66061546 0.62006724 0.6349625\n",
            " 0.64432377 0.62006724 0.59968968 0.60480993 0.57796742 0.57558831\n",
            " 0.55210758 0.58841479 0.59415568 0.6060512  0.6089475  0.63904836\n",
            " 0.657564   0.65368503 0.6444272  0.64903026 0.63434187 0.62570468\n",
            " 0.65368503 0.65120248 0.65218516 0.62420481 0.63853116 0.68482027\n",
            " 0.68316524 0.69888803 0.6701836  0.68595811 0.69123351 0.73431601\n",
            " 0.71445565 0.68895785 0.6930437  0.6614947  0.67985518 0.67514869\n",
            " 0.69216447 0.67938971 0.65906387 0.65952935 0.68864753 0.69950866\n",
            " 0.69707784 0.65740884 0.67845875 0.72366175 0.7579519  0.77020946\n",
            " 0.82317042 0.82803207 0.82296354 0.83537626 0.8804241  0.86087406\n",
            " 0.81127489 0.83966899 0.85952935 0.85130592 0.84903026 0.8551849\n",
            " 0.88352728 0.88787174 0.9035428  0.94181536 0.93524696 0.99725886\n",
            " 1.         0.99813855 0.99734879 0.99841172 1.00090075 1.00386798\n",
            " 1.00657034 1.00865233 1.01005709 1.01087785 1.01125002 1.01129746\n",
            " 1.01111555 1.01077509 1.01032734 1.00981295]\n",
            "15 day output [[1.0092651]]\n",
            "16 day input [0.58484613 0.58438066 0.5929144  0.59622446 0.59565555 0.64727179\n",
            " 0.63439359 0.63775537 0.67809672 0.66811482 0.65001293 0.64923713\n",
            " 0.66397724 0.66108094 0.66061546 0.62006724 0.6349625  0.64432377\n",
            " 0.62006724 0.59968968 0.60480993 0.57796742 0.57558831 0.55210758\n",
            " 0.58841479 0.59415568 0.6060512  0.6089475  0.63904836 0.657564\n",
            " 0.65368503 0.6444272  0.64903026 0.63434187 0.62570468 0.65368503\n",
            " 0.65120248 0.65218516 0.62420481 0.63853116 0.68482027 0.68316524\n",
            " 0.69888803 0.6701836  0.68595811 0.69123351 0.73431601 0.71445565\n",
            " 0.68895785 0.6930437  0.6614947  0.67985518 0.67514869 0.69216447\n",
            " 0.67938971 0.65906387 0.65952935 0.68864753 0.69950866 0.69707784\n",
            " 0.65740884 0.67845875 0.72366175 0.7579519  0.77020946 0.82317042\n",
            " 0.82803207 0.82296354 0.83537626 0.8804241  0.86087406 0.81127489\n",
            " 0.83966899 0.85952935 0.85130592 0.84903026 0.8551849  0.88352728\n",
            " 0.88787174 0.9035428  0.94181536 0.93524696 0.99725886 1.\n",
            " 0.99813855 0.99734879 0.99841172 1.00090075 1.00386798 1.00657034\n",
            " 1.00865233 1.01005709 1.01087785 1.01125002 1.01129746 1.01111555\n",
            " 1.01077509 1.01032734 1.00981295 1.00926507]\n",
            "16 day output [[1.0087115]]\n",
            "17 day input [0.58438066 0.5929144  0.59622446 0.59565555 0.64727179 0.63439359\n",
            " 0.63775537 0.67809672 0.66811482 0.65001293 0.64923713 0.66397724\n",
            " 0.66108094 0.66061546 0.62006724 0.6349625  0.64432377 0.62006724\n",
            " 0.59968968 0.60480993 0.57796742 0.57558831 0.55210758 0.58841479\n",
            " 0.59415568 0.6060512  0.6089475  0.63904836 0.657564   0.65368503\n",
            " 0.6444272  0.64903026 0.63434187 0.62570468 0.65368503 0.65120248\n",
            " 0.65218516 0.62420481 0.63853116 0.68482027 0.68316524 0.69888803\n",
            " 0.6701836  0.68595811 0.69123351 0.73431601 0.71445565 0.68895785\n",
            " 0.6930437  0.6614947  0.67985518 0.67514869 0.69216447 0.67938971\n",
            " 0.65906387 0.65952935 0.68864753 0.69950866 0.69707784 0.65740884\n",
            " 0.67845875 0.72366175 0.7579519  0.77020946 0.82317042 0.82803207\n",
            " 0.82296354 0.83537626 0.8804241  0.86087406 0.81127489 0.83966899\n",
            " 0.85952935 0.85130592 0.84903026 0.8551849  0.88352728 0.88787174\n",
            " 0.9035428  0.94181536 0.93524696 0.99725886 1.         0.99813855\n",
            " 0.99734879 0.99841172 1.00090075 1.00386798 1.00657034 1.00865233\n",
            " 1.01005709 1.01087785 1.01125002 1.01129746 1.01111555 1.01077509\n",
            " 1.01032734 1.00981295 1.00926507 1.00871146]\n",
            "17 day output [[1.0081747]]\n",
            "18 day input [0.5929144  0.59622446 0.59565555 0.64727179 0.63439359 0.63775537\n",
            " 0.67809672 0.66811482 0.65001293 0.64923713 0.66397724 0.66108094\n",
            " 0.66061546 0.62006724 0.6349625  0.64432377 0.62006724 0.59968968\n",
            " 0.60480993 0.57796742 0.57558831 0.55210758 0.58841479 0.59415568\n",
            " 0.6060512  0.6089475  0.63904836 0.657564   0.65368503 0.6444272\n",
            " 0.64903026 0.63434187 0.62570468 0.65368503 0.65120248 0.65218516\n",
            " 0.62420481 0.63853116 0.68482027 0.68316524 0.69888803 0.6701836\n",
            " 0.68595811 0.69123351 0.73431601 0.71445565 0.68895785 0.6930437\n",
            " 0.6614947  0.67985518 0.67514869 0.69216447 0.67938971 0.65906387\n",
            " 0.65952935 0.68864753 0.69950866 0.69707784 0.65740884 0.67845875\n",
            " 0.72366175 0.7579519  0.77020946 0.82317042 0.82803207 0.82296354\n",
            " 0.83537626 0.8804241  0.86087406 0.81127489 0.83966899 0.85952935\n",
            " 0.85130592 0.84903026 0.8551849  0.88352728 0.88787174 0.9035428\n",
            " 0.94181536 0.93524696 0.99725886 1.         0.99813855 0.99734879\n",
            " 0.99841172 1.00090075 1.00386798 1.00657034 1.00865233 1.01005709\n",
            " 1.01087785 1.01125002 1.01129746 1.01111555 1.01077509 1.01032734\n",
            " 1.00981295 1.00926507 1.00871146 1.00817466]\n",
            "18 day output [[1.0076723]]\n",
            "19 day input [0.59622446 0.59565555 0.64727179 0.63439359 0.63775537 0.67809672\n",
            " 0.66811482 0.65001293 0.64923713 0.66397724 0.66108094 0.66061546\n",
            " 0.62006724 0.6349625  0.64432377 0.62006724 0.59968968 0.60480993\n",
            " 0.57796742 0.57558831 0.55210758 0.58841479 0.59415568 0.6060512\n",
            " 0.6089475  0.63904836 0.657564   0.65368503 0.6444272  0.64903026\n",
            " 0.63434187 0.62570468 0.65368503 0.65120248 0.65218516 0.62420481\n",
            " 0.63853116 0.68482027 0.68316524 0.69888803 0.6701836  0.68595811\n",
            " 0.69123351 0.73431601 0.71445565 0.68895785 0.6930437  0.6614947\n",
            " 0.67985518 0.67514869 0.69216447 0.67938971 0.65906387 0.65952935\n",
            " 0.68864753 0.69950866 0.69707784 0.65740884 0.67845875 0.72366175\n",
            " 0.7579519  0.77020946 0.82317042 0.82803207 0.82296354 0.83537626\n",
            " 0.8804241  0.86087406 0.81127489 0.83966899 0.85952935 0.85130592\n",
            " 0.84903026 0.8551849  0.88352728 0.88787174 0.9035428  0.94181536\n",
            " 0.93524696 0.99725886 1.         0.99813855 0.99734879 0.99841172\n",
            " 1.00090075 1.00386798 1.00657034 1.00865233 1.01005709 1.01087785\n",
            " 1.01125002 1.01129746 1.01111555 1.01077509 1.01032734 1.00981295\n",
            " 1.00926507 1.00871146 1.00817466 1.00767231]\n",
            "19 day output [[1.0072166]]\n",
            "20 day input [0.59565555 0.64727179 0.63439359 0.63775537 0.67809672 0.66811482\n",
            " 0.65001293 0.64923713 0.66397724 0.66108094 0.66061546 0.62006724\n",
            " 0.6349625  0.64432377 0.62006724 0.59968968 0.60480993 0.57796742\n",
            " 0.57558831 0.55210758 0.58841479 0.59415568 0.6060512  0.6089475\n",
            " 0.63904836 0.657564   0.65368503 0.6444272  0.64903026 0.63434187\n",
            " 0.62570468 0.65368503 0.65120248 0.65218516 0.62420481 0.63853116\n",
            " 0.68482027 0.68316524 0.69888803 0.6701836  0.68595811 0.69123351\n",
            " 0.73431601 0.71445565 0.68895785 0.6930437  0.6614947  0.67985518\n",
            " 0.67514869 0.69216447 0.67938971 0.65906387 0.65952935 0.68864753\n",
            " 0.69950866 0.69707784 0.65740884 0.67845875 0.72366175 0.7579519\n",
            " 0.77020946 0.82317042 0.82803207 0.82296354 0.83537626 0.8804241\n",
            " 0.86087406 0.81127489 0.83966899 0.85952935 0.85130592 0.84903026\n",
            " 0.8551849  0.88352728 0.88787174 0.9035428  0.94181536 0.93524696\n",
            " 0.99725886 1.         0.99813855 0.99734879 0.99841172 1.00090075\n",
            " 1.00386798 1.00657034 1.00865233 1.01005709 1.01087785 1.01125002\n",
            " 1.01129746 1.01111555 1.01077509 1.01032734 1.00981295 1.00926507\n",
            " 1.00871146 1.00817466 1.00767231 1.00721657]\n",
            "20 day output [[1.0068172]]\n",
            "21 day input [0.64727179 0.63439359 0.63775537 0.67809672 0.66811482 0.65001293\n",
            " 0.64923713 0.66397724 0.66108094 0.66061546 0.62006724 0.6349625\n",
            " 0.64432377 0.62006724 0.59968968 0.60480993 0.57796742 0.57558831\n",
            " 0.55210758 0.58841479 0.59415568 0.6060512  0.6089475  0.63904836\n",
            " 0.657564   0.65368503 0.6444272  0.64903026 0.63434187 0.62570468\n",
            " 0.65368503 0.65120248 0.65218516 0.62420481 0.63853116 0.68482027\n",
            " 0.68316524 0.69888803 0.6701836  0.68595811 0.69123351 0.73431601\n",
            " 0.71445565 0.68895785 0.6930437  0.6614947  0.67985518 0.67514869\n",
            " 0.69216447 0.67938971 0.65906387 0.65952935 0.68864753 0.69950866\n",
            " 0.69707784 0.65740884 0.67845875 0.72366175 0.7579519  0.77020946\n",
            " 0.82317042 0.82803207 0.82296354 0.83537626 0.8804241  0.86087406\n",
            " 0.81127489 0.83966899 0.85952935 0.85130592 0.84903026 0.8551849\n",
            " 0.88352728 0.88787174 0.9035428  0.94181536 0.93524696 0.99725886\n",
            " 1.         0.99813855 0.99734879 0.99841172 1.00090075 1.00386798\n",
            " 1.00657034 1.00865233 1.01005709 1.01087785 1.01125002 1.01129746\n",
            " 1.01111555 1.01077509 1.01032734 1.00981295 1.00926507 1.00871146\n",
            " 1.00817466 1.00767231 1.00721657 1.00681722]\n",
            "21 day output [[1.0064793]]\n",
            "22 day input [0.63439359 0.63775537 0.67809672 0.66811482 0.65001293 0.64923713\n",
            " 0.66397724 0.66108094 0.66061546 0.62006724 0.6349625  0.64432377\n",
            " 0.62006724 0.59968968 0.60480993 0.57796742 0.57558831 0.55210758\n",
            " 0.58841479 0.59415568 0.6060512  0.6089475  0.63904836 0.657564\n",
            " 0.65368503 0.6444272  0.64903026 0.63434187 0.62570468 0.65368503\n",
            " 0.65120248 0.65218516 0.62420481 0.63853116 0.68482027 0.68316524\n",
            " 0.69888803 0.6701836  0.68595811 0.69123351 0.73431601 0.71445565\n",
            " 0.68895785 0.6930437  0.6614947  0.67985518 0.67514869 0.69216447\n",
            " 0.67938971 0.65906387 0.65952935 0.68864753 0.69950866 0.69707784\n",
            " 0.65740884 0.67845875 0.72366175 0.7579519  0.77020946 0.82317042\n",
            " 0.82803207 0.82296354 0.83537626 0.8804241  0.86087406 0.81127489\n",
            " 0.83966899 0.85952935 0.85130592 0.84903026 0.8551849  0.88352728\n",
            " 0.88787174 0.9035428  0.94181536 0.93524696 0.99725886 1.\n",
            " 0.99813855 0.99734879 0.99841172 1.00090075 1.00386798 1.00657034\n",
            " 1.00865233 1.01005709 1.01087785 1.01125002 1.01129746 1.01111555\n",
            " 1.01077509 1.01032734 1.00981295 1.00926507 1.00871146 1.00817466\n",
            " 1.00767231 1.00721657 1.00681722 1.00647926]\n",
            "22 day output [[1.0062054]]\n",
            "23 day input [0.63775537 0.67809672 0.66811482 0.65001293 0.64923713 0.66397724\n",
            " 0.66108094 0.66061546 0.62006724 0.6349625  0.64432377 0.62006724\n",
            " 0.59968968 0.60480993 0.57796742 0.57558831 0.55210758 0.58841479\n",
            " 0.59415568 0.6060512  0.6089475  0.63904836 0.657564   0.65368503\n",
            " 0.6444272  0.64903026 0.63434187 0.62570468 0.65368503 0.65120248\n",
            " 0.65218516 0.62420481 0.63853116 0.68482027 0.68316524 0.69888803\n",
            " 0.6701836  0.68595811 0.69123351 0.73431601 0.71445565 0.68895785\n",
            " 0.6930437  0.6614947  0.67985518 0.67514869 0.69216447 0.67938971\n",
            " 0.65906387 0.65952935 0.68864753 0.69950866 0.69707784 0.65740884\n",
            " 0.67845875 0.72366175 0.7579519  0.77020946 0.82317042 0.82803207\n",
            " 0.82296354 0.83537626 0.8804241  0.86087406 0.81127489 0.83966899\n",
            " 0.85952935 0.85130592 0.84903026 0.8551849  0.88352728 0.88787174\n",
            " 0.9035428  0.94181536 0.93524696 0.99725886 1.         0.99813855\n",
            " 0.99734879 0.99841172 1.00090075 1.00386798 1.00657034 1.00865233\n",
            " 1.01005709 1.01087785 1.01125002 1.01129746 1.01111555 1.01077509\n",
            " 1.01032734 1.00981295 1.00926507 1.00871146 1.00817466 1.00767231\n",
            " 1.00721657 1.00681722 1.00647926 1.00620544]\n",
            "23 day output [[1.0059952]]\n",
            "24 day input [0.67809672 0.66811482 0.65001293 0.64923713 0.66397724 0.66108094\n",
            " 0.66061546 0.62006724 0.6349625  0.64432377 0.62006724 0.59968968\n",
            " 0.60480993 0.57796742 0.57558831 0.55210758 0.58841479 0.59415568\n",
            " 0.6060512  0.6089475  0.63904836 0.657564   0.65368503 0.6444272\n",
            " 0.64903026 0.63434187 0.62570468 0.65368503 0.65120248 0.65218516\n",
            " 0.62420481 0.63853116 0.68482027 0.68316524 0.69888803 0.6701836\n",
            " 0.68595811 0.69123351 0.73431601 0.71445565 0.68895785 0.6930437\n",
            " 0.6614947  0.67985518 0.67514869 0.69216447 0.67938971 0.65906387\n",
            " 0.65952935 0.68864753 0.69950866 0.69707784 0.65740884 0.67845875\n",
            " 0.72366175 0.7579519  0.77020946 0.82317042 0.82803207 0.82296354\n",
            " 0.83537626 0.8804241  0.86087406 0.81127489 0.83966899 0.85952935\n",
            " 0.85130592 0.84903026 0.8551849  0.88352728 0.88787174 0.9035428\n",
            " 0.94181536 0.93524696 0.99725886 1.         0.99813855 0.99734879\n",
            " 0.99841172 1.00090075 1.00386798 1.00657034 1.00865233 1.01005709\n",
            " 1.01087785 1.01125002 1.01129746 1.01111555 1.01077509 1.01032734\n",
            " 1.00981295 1.00926507 1.00871146 1.00817466 1.00767231 1.00721657\n",
            " 1.00681722 1.00647926 1.00620544 1.00599515]\n",
            "24 day output [[1.0058467]]\n",
            "25 day input [0.66811482 0.65001293 0.64923713 0.66397724 0.66108094 0.66061546\n",
            " 0.62006724 0.6349625  0.64432377 0.62006724 0.59968968 0.60480993\n",
            " 0.57796742 0.57558831 0.55210758 0.58841479 0.59415568 0.6060512\n",
            " 0.6089475  0.63904836 0.657564   0.65368503 0.6444272  0.64903026\n",
            " 0.63434187 0.62570468 0.65368503 0.65120248 0.65218516 0.62420481\n",
            " 0.63853116 0.68482027 0.68316524 0.69888803 0.6701836  0.68595811\n",
            " 0.69123351 0.73431601 0.71445565 0.68895785 0.6930437  0.6614947\n",
            " 0.67985518 0.67514869 0.69216447 0.67938971 0.65906387 0.65952935\n",
            " 0.68864753 0.69950866 0.69707784 0.65740884 0.67845875 0.72366175\n",
            " 0.7579519  0.77020946 0.82317042 0.82803207 0.82296354 0.83537626\n",
            " 0.8804241  0.86087406 0.81127489 0.83966899 0.85952935 0.85130592\n",
            " 0.84903026 0.8551849  0.88352728 0.88787174 0.9035428  0.94181536\n",
            " 0.93524696 0.99725886 1.         0.99813855 0.99734879 0.99841172\n",
            " 1.00090075 1.00386798 1.00657034 1.00865233 1.01005709 1.01087785\n",
            " 1.01125002 1.01129746 1.01111555 1.01077509 1.01032734 1.00981295\n",
            " 1.00926507 1.00871146 1.00817466 1.00767231 1.00721657 1.00681722\n",
            " 1.00647926 1.00620544 1.00599515 1.00584674]\n",
            "25 day output [[1.005756]]\n",
            "26 day input [0.65001293 0.64923713 0.66397724 0.66108094 0.66061546 0.62006724\n",
            " 0.6349625  0.64432377 0.62006724 0.59968968 0.60480993 0.57796742\n",
            " 0.57558831 0.55210758 0.58841479 0.59415568 0.6060512  0.6089475\n",
            " 0.63904836 0.657564   0.65368503 0.6444272  0.64903026 0.63434187\n",
            " 0.62570468 0.65368503 0.65120248 0.65218516 0.62420481 0.63853116\n",
            " 0.68482027 0.68316524 0.69888803 0.6701836  0.68595811 0.69123351\n",
            " 0.73431601 0.71445565 0.68895785 0.6930437  0.6614947  0.67985518\n",
            " 0.67514869 0.69216447 0.67938971 0.65906387 0.65952935 0.68864753\n",
            " 0.69950866 0.69707784 0.65740884 0.67845875 0.72366175 0.7579519\n",
            " 0.77020946 0.82317042 0.82803207 0.82296354 0.83537626 0.8804241\n",
            " 0.86087406 0.81127489 0.83966899 0.85952935 0.85130592 0.84903026\n",
            " 0.8551849  0.88352728 0.88787174 0.9035428  0.94181536 0.93524696\n",
            " 0.99725886 1.         0.99813855 0.99734879 0.99841172 1.00090075\n",
            " 1.00386798 1.00657034 1.00865233 1.01005709 1.01087785 1.01125002\n",
            " 1.01129746 1.01111555 1.01077509 1.01032734 1.00981295 1.00926507\n",
            " 1.00871146 1.00817466 1.00767231 1.00721657 1.00681722 1.00647926\n",
            " 1.00620544 1.00599515 1.00584674 1.00575602]\n",
            "26 day output [[1.0057187]]\n",
            "27 day input [0.64923713 0.66397724 0.66108094 0.66061546 0.62006724 0.6349625\n",
            " 0.64432377 0.62006724 0.59968968 0.60480993 0.57796742 0.57558831\n",
            " 0.55210758 0.58841479 0.59415568 0.6060512  0.6089475  0.63904836\n",
            " 0.657564   0.65368503 0.6444272  0.64903026 0.63434187 0.62570468\n",
            " 0.65368503 0.65120248 0.65218516 0.62420481 0.63853116 0.68482027\n",
            " 0.68316524 0.69888803 0.6701836  0.68595811 0.69123351 0.73431601\n",
            " 0.71445565 0.68895785 0.6930437  0.6614947  0.67985518 0.67514869\n",
            " 0.69216447 0.67938971 0.65906387 0.65952935 0.68864753 0.69950866\n",
            " 0.69707784 0.65740884 0.67845875 0.72366175 0.7579519  0.77020946\n",
            " 0.82317042 0.82803207 0.82296354 0.83537626 0.8804241  0.86087406\n",
            " 0.81127489 0.83966899 0.85952935 0.85130592 0.84903026 0.8551849\n",
            " 0.88352728 0.88787174 0.9035428  0.94181536 0.93524696 0.99725886\n",
            " 1.         0.99813855 0.99734879 0.99841172 1.00090075 1.00386798\n",
            " 1.00657034 1.00865233 1.01005709 1.01087785 1.01125002 1.01129746\n",
            " 1.01111555 1.01077509 1.01032734 1.00981295 1.00926507 1.00871146\n",
            " 1.00817466 1.00767231 1.00721657 1.00681722 1.00647926 1.00620544\n",
            " 1.00599515 1.00584674 1.00575602 1.00571871]\n",
            "27 day output [[1.0057291]]\n",
            "28 day input [0.66397724 0.66108094 0.66061546 0.62006724 0.6349625  0.64432377\n",
            " 0.62006724 0.59968968 0.60480993 0.57796742 0.57558831 0.55210758\n",
            " 0.58841479 0.59415568 0.6060512  0.6089475  0.63904836 0.657564\n",
            " 0.65368503 0.6444272  0.64903026 0.63434187 0.62570468 0.65368503\n",
            " 0.65120248 0.65218516 0.62420481 0.63853116 0.68482027 0.68316524\n",
            " 0.69888803 0.6701836  0.68595811 0.69123351 0.73431601 0.71445565\n",
            " 0.68895785 0.6930437  0.6614947  0.67985518 0.67514869 0.69216447\n",
            " 0.67938971 0.65906387 0.65952935 0.68864753 0.69950866 0.69707784\n",
            " 0.65740884 0.67845875 0.72366175 0.7579519  0.77020946 0.82317042\n",
            " 0.82803207 0.82296354 0.83537626 0.8804241  0.86087406 0.81127489\n",
            " 0.83966899 0.85952935 0.85130592 0.84903026 0.8551849  0.88352728\n",
            " 0.88787174 0.9035428  0.94181536 0.93524696 0.99725886 1.\n",
            " 0.99813855 0.99734879 0.99841172 1.00090075 1.00386798 1.00657034\n",
            " 1.00865233 1.01005709 1.01087785 1.01125002 1.01129746 1.01111555\n",
            " 1.01077509 1.01032734 1.00981295 1.00926507 1.00871146 1.00817466\n",
            " 1.00767231 1.00721657 1.00681722 1.00647926 1.00620544 1.00599515\n",
            " 1.00584674 1.00575602 1.00571871 1.00572908]\n",
            "28 day output [[1.0057814]]\n",
            "29 day input [0.66108094 0.66061546 0.62006724 0.6349625  0.64432377 0.62006724\n",
            " 0.59968968 0.60480993 0.57796742 0.57558831 0.55210758 0.58841479\n",
            " 0.59415568 0.6060512  0.6089475  0.63904836 0.657564   0.65368503\n",
            " 0.6444272  0.64903026 0.63434187 0.62570468 0.65368503 0.65120248\n",
            " 0.65218516 0.62420481 0.63853116 0.68482027 0.68316524 0.69888803\n",
            " 0.6701836  0.68595811 0.69123351 0.73431601 0.71445565 0.68895785\n",
            " 0.6930437  0.6614947  0.67985518 0.67514869 0.69216447 0.67938971\n",
            " 0.65906387 0.65952935 0.68864753 0.69950866 0.69707784 0.65740884\n",
            " 0.67845875 0.72366175 0.7579519  0.77020946 0.82317042 0.82803207\n",
            " 0.82296354 0.83537626 0.8804241  0.86087406 0.81127489 0.83966899\n",
            " 0.85952935 0.85130592 0.84903026 0.8551849  0.88352728 0.88787174\n",
            " 0.9035428  0.94181536 0.93524696 0.99725886 1.         0.99813855\n",
            " 0.99734879 0.99841172 1.00090075 1.00386798 1.00657034 1.00865233\n",
            " 1.01005709 1.01087785 1.01125002 1.01129746 1.01111555 1.01077509\n",
            " 1.01032734 1.00981295 1.00926507 1.00871146 1.00817466 1.00767231\n",
            " 1.00721657 1.00681722 1.00647926 1.00620544 1.00599515 1.00584674\n",
            " 1.00575602 1.00571871 1.00572908 1.00578141]\n",
            "29 day output [[1.0058696]]\n"
          ]
        }
      ],
      "source": [
        "from numpy import array\n",
        "\n",
        "lst_output=[]\n",
        "n_steps=100\n",
        "i=0\n",
        "while(i<30):\n",
        "    \n",
        "    if(len(temp_input)>100):\n",
        "        #print(temp_input)\n",
        "        x_input=np.array(temp_input[1:])\n",
        "        print(\"{} day input {}\".format(i,x_input))\n",
        "        x_input=x_input.reshape(1,-1)\n",
        "        x_input = x_input.reshape((1, n_steps, 1))\n",
        "        #print(x_input)\n",
        "        yhat = model.predict(x_input, verbose=0)\n",
        "        print(\"{} day output {}\".format(i,yhat))\n",
        "        temp_input.extend(yhat[0].tolist())\n",
        "        temp_input=temp_input[1:]\n",
        "        #print(temp_input)\n",
        "        lst_output.extend(yhat.tolist())\n",
        "        i=i+1\n",
        "    else:\n",
        "        x_input = x_input.reshape((1, n_steps,1))\n",
        "        yhat = model.predict(x_input, verbose=0)\n",
        "        print(yhat[0])\n",
        "        temp_input.extend(yhat[0].tolist())\n",
        "        print(len(temp_input))\n",
        "        lst_output.extend(yhat.tolist())\n",
        "        i=i+1"
      ]
    },
    {
      "cell_type": "code",
      "execution_count": null,
      "metadata": {
        "id": "3m6NdmUlSsrP"
      },
      "outputs": [],
      "source": [
        "day_new=np.arange(1,101)\n",
        "day_pred=np.arange(101,131)"
      ]
    },
    {
      "cell_type": "code",
      "execution_count": null,
      "metadata": {
        "colab": {
          "base_uri": "https://localhost:8080/"
        },
        "id": "2d6v0S9bS57_",
        "outputId": "a829a773-e1e8-4f6d-ad2f-4687ad842baa"
      },
      "outputs": [
        {
          "data": {
            "text/plain": [
              "5306"
            ]
          },
          "execution_count": 29,
          "metadata": {},
          "output_type": "execute_result"
        }
      ],
      "source": [
        "len(df1)"
      ]
    },
    {
      "cell_type": "code",
      "execution_count": null,
      "metadata": {
        "colab": {
          "base_uri": "https://localhost:8080/",
          "height": 285
        },
        "id": "NYdw1A8WS7h9",
        "outputId": "321f3204-465b-4607-e827-2a5a70bcc5d7"
      },
      "outputs": [
        {
          "data": {
            "text/plain": [
              "[<matplotlib.lines.Line2D at 0x7f5c68a64290>]"
            ]
          },
          "execution_count": 30,
          "metadata": {},
          "output_type": "execute_result"
        },
        {
          "data": {
            "image/png": "[encoded data removed]",
            "text/plain": [
              "<Figure size 432x288 with 1 Axes>"
            ]
          },
          "metadata": {},
          "output_type": "display_data"
        }
      ],
      "source": [
        "plt.plot(day_new,scaler.inverse_transform(df1[5206:]))\n",
        "plt.plot(day_pred,scaler.inverse_transform(lst_output))"
      ]
    },
    {
      "cell_type": "code",
      "execution_count": null,
      "metadata": {
        "colab": {
          "base_uri": "https://localhost:8080/",
          "height": 285
        },
        "id": "VX_tRcuKTIhi",
        "outputId": "897d5a89-d054-4117-bf42-cf8c4a2549ef"
      },
      "outputs": [
        {
          "data": {
            "text/plain": [
              "[<matplotlib.lines.Line2D at 0x7f5c68bcf290>]"
            ]
          },
          "execution_count": 36,
          "metadata": {},
          "output_type": "execute_result"
        },
        {
          "data": {
            "image/png": "[encoded data removed]",
            "text/plain": [
              "<Figure size 432x288 with 1 Axes>"
            ]
          },
          "metadata": {},
          "output_type": "display_data"
        }
      ],
      "source": [
        "df3=df1.tolist()\n",
        "df3.extend(lst_output)\n",
        "plt.plot(df3[5150:])"
      ]
    },
    {
      "cell_type": "code",
      "execution_count": null,
      "metadata": {
        "colab": {
          "base_uri": "https://localhost:8080/",
          "height": 285
        },
        "id": "yLWdMpOETU1-",
        "outputId": "1c21ddbc-ad7f-4552-ed7d-de7b06c0cae5"
      },
      "outputs": [
        {
          "data": {
            "text/plain": [
              "[<matplotlib.lines.Line2D at 0x7f5c688d2b90>]"
            ]
          },
          "execution_count": 37,
          "metadata": {},
          "output_type": "execute_result"
        },
        {
          "data": {
            "image/png": "[encoded data removed]",
            "text/plain": [
              "<Figure size 432x288 with 1 Axes>"
            ]
          },
          "metadata": {},
          "output_type": "display_data"
        }
      ],
      "source": [
        "df3=scaler.inverse_transform(df3).tolist()\n",
        "plt.plot(df3)"
      ]
    }
  ],
  "metadata": {
    "colab": {
      "collapsed_sections": [],
      "name": "WIPRO ANALYSIS.ipynb",
      "provenance": []
    },
    "kernelspec": {
      "display_name": "Python 3",
      "name": "python3"
    },
    "language_info": {
      "name": "python"
    }
  },
  "nbformat": 4,
  "nbformat_minor": 0
}